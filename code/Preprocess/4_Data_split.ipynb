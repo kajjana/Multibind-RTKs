{
 "cells": [
  {
   "cell_type": "code",
   "execution_count": 2,
   "metadata": {},
   "outputs": [],
   "source": [
    "import numpy as np\n",
    "import pandas as pd\n",
    "import pickle\n",
    "from sklearn.model_selection import train_test_split\n",
    "from sklearn.model_selection import KFold, StratifiedKFold"
   ]
  },
  {
   "cell_type": "code",
   "execution_count": 3,
   "metadata": {},
   "outputs": [],
   "source": [
    "target_list = ['erbB4', 'egfr', 'met', 'alk', 'erbB2', 'ret', 'ros1']\n",
    "\n",
    "def splitData(df, split_size, label_column):\n",
    "    train, test = train_test_split(df, test_size=split_size, shuffle=True, stratify= df.loc[:,label_column])\n",
    "    return train, test\n",
    "\n",
    "def count_taskDataset(df, target_list):\n",
    "    tk_df = pd.DataFrame()\n",
    "    result = pd.DataFrame(index=[0], columns=target_list)\n",
    "    result['total'] = df.shape[0]\n",
    "    print('total data: '+str(df.shape[0]))\n",
    "    for tar in target_list:\n",
    "        tar_df = df.dropna(subset=['pIC50_'+tar])\n",
    "        tar_df = tar_df[['SMILES_NS','pIC50_'+tar]]\n",
    "        tar_df.rename(columns={'pIC50_'+tar:'pIC50'},inplace=True)\n",
    "        tar_df['target'] = tar\n",
    "        tk_df = pd.concat([tk_df, tar_df],axis=0)\n",
    "        result[tar] = tar_df.shape[0]\n",
    "        print(tar+' data: '+str(tar_df.shape[0]))\n",
    "    tk_df.sort_index(inplace=True)\n",
    "    return result, tk_df\n",
    "\n",
    "def defineLabel(df, target_list):\n",
    "    count_dict = {'erbB4':0, 'egfr':0, 'met':0, 'alk':0, 'erbB2':0, 'ret':0, 'ros1':0}\n",
    "    co = [0]*7\n",
    "    for i, tar in(enumerate(target_list)):\n",
    "        for v in range(len(df['SMILES_NS'])):\n",
    "            if np.isnan(df['pIC50_'+tar][v]) == False:\n",
    "                count_dict[tar] += 1\n",
    "    target_order = sorted(count_dict, key=count_dict.get)\n",
    "    co = [0]*7\n",
    "    for i, tar in(enumerate(target_order)):\n",
    "        for v in range(len(df['SMILES_NS'])):\n",
    "            if np.isnan(df['pIC50_'+tar][v]) == False:\n",
    "                co[i] += 1\n",
    "    Label = []\n",
    "    for index, row in df.iterrows():\n",
    "        for i, tar in(enumerate(target_order)):\n",
    "            if np.isnan(row['pIC50_'+tar]) == False:\n",
    "                Label.append(i+1)\n",
    "                break\n",
    "    return Label"
   ]
  },
  {
   "cell_type": "code",
   "execution_count": 3,
   "metadata": {},
   "outputs": [
    {
     "name": "stdout",
     "output_type": "stream",
     "text": [
      "(16345, 8)\n",
      "total data: 16345\n",
      "erbB4 data: 196\n",
      "egfr data: 7427\n",
      "met data: 3618\n",
      "alk data: 1871\n",
      "erbB2 data: 2313\n",
      "ret data: 2985\n",
      "ros1 data: 151\n"
     ]
    }
   ],
   "source": [
    "raw_df = pd.read_csv('./7TKs_ic50_chembl+bindingdb.csv', index_col=0)\n",
    "print(raw_df.shape)\n",
    "_,tk = count_taskDataset(raw_df, target_list)\n",
    "tk.reset_index(drop=True, inplace=True)\n",
    "\n",
    "Label = defineLabel(raw_df, target_list)\n",
    "raw_df['Label'] = Label"
   ]
  },
  {
   "cell_type": "code",
   "execution_count": 70,
   "metadata": {},
   "outputs": [
    {
     "name": "stdout",
     "output_type": "stream",
     "text": [
      "Before AC analysis (14710, 8)\n",
      "After AC analysis\n",
      "total data: 11116\n",
      "erbB4 data: 163\n",
      "egfr data: 4426\n",
      "met data: 2430\n",
      "alk data: 1313\n",
      "erbB2 data: 1717\n",
      "ret data: 2332\n",
      "ros1 data: 131\n"
     ]
    },
    {
     "name": "stderr",
     "output_type": "stream",
     "text": [
      "/share/galaxy/fahsai/.conda/envs/qsar/lib/python3.6/site-packages/pandas/core/frame.py:4308: SettingWithCopyWarning: \n",
      "A value is trying to be set on a copy of a slice from a DataFrame\n",
      "\n",
      "See the caveats in the documentation: https://pandas.pydata.org/pandas-docs/stable/user_guide/indexing.html#returning-a-view-versus-a-copy\n",
      "  errors=errors,\n",
      "/share/galaxy/fahsai/.conda/envs/qsar/lib/python3.6/site-packages/pandas/core/frame.py:4174: SettingWithCopyWarning: \n",
      "A value is trying to be set on a copy of a slice from a DataFrame\n",
      "\n",
      "See the caveats in the documentation: https://pandas.pydata.org/pandas-docs/stable/user_guide/indexing.html#returning-a-view-versus-a-copy\n",
      "  errors=errors,\n"
     ]
    }
   ],
   "source": [
    "pretint_bAC = pd.read_csv('./7TK_train-intest.csv',index_col=0)\n",
    "for t,tar in enumerate(target_list):\n",
    "    tar_tint = pretint_bAC[pretint_bAC.target == tar]\n",
    "    tar_tint.rename(columns={'pIC50':'pIC50_'+tar},inplace=True)\n",
    "    tar_tint.drop(columns=['target'], inplace=True)\n",
    "    if t == 0:\n",
    "        pretint = tar_tint\n",
    "    else:\n",
    "        pretint = pd.merge(pretint, tar_tint, on=['SMILES_NS'], how='outer')\n",
    "print('Before AC analysis',pretint.shape)\n",
    "print('After AC analysis')\n",
    "AC_df = pd.read_csv('./train-intest_fromAC.csv', index_col=0)\n",
    "_,AC_tk = count_taskDataset(AC_df, target_list)"
   ]
  },
  {
   "cell_type": "code",
   "execution_count": 76,
   "metadata": {},
   "outputs": [
    {
     "name": "stdout",
     "output_type": "stream",
     "text": [
      "Train-Intest\n",
      "(11116, 9)\n",
      "External-test\n",
      "(1635, 9)\n",
      "Internal-test\n",
      "(1111, 9)\n",
      "Training\n",
      "(10005, 9)\n"
     ]
    }
   ],
   "source": [
    "print('Train-Intest')\n",
    "tint = pd.merge(AC_df, raw_df[['SMILES_NS','Label']])\n",
    "Label = defineLabel(tint, target_list)\n",
    "tint['Label'] = Label\n",
    "print(tint.shape)\n",
    "tint.to_csv('./train-intest.csv')\n",
    "\n",
    "print('External-test')\n",
    "extest = raw_df[~(raw_df.SMILES_NS.isin(pretint.SMILES_NS))].reset_index(drop=True)\n",
    "extest.reset_index(drop=True, inplace=True)\n",
    "print(extest.shape)\n",
    "extest.to_csv('./external-test.csv')\n",
    "\n",
    "intest, train = splitData(tint, 0.9, 'Label')\n",
    "print('Internal-test')\n",
    "intest.reset_index(drop=True, inplace=True)\n",
    "print(intest.shape)\n",
    "intest.to_csv('./internal-test.csv')\n",
    "\n",
    "print('Training')\n",
    "train.reset_index(drop=True, inplace=True)\n",
    "print(train.shape)\n",
    "train.to_csv('./train.csv')"
   ]
  },
  {
   "cell_type": "code",
   "execution_count": 6,
   "metadata": {
    "scrolled": true
   },
   "outputs": [
    {
     "name": "stdout",
     "output_type": "stream",
     "text": [
      "Dataset fold 0\n",
      "Train\n",
      "(9004, 9)\n",
      "Valid\n",
      "(1001, 9)\n",
      "Dataset fold 1\n",
      "Train\n",
      "(9004, 9)\n",
      "Valid\n",
      "(1001, 9)\n",
      "Dataset fold 2\n",
      "Train\n",
      "(9004, 9)\n",
      "Valid\n",
      "(1001, 9)\n",
      "Dataset fold 3\n",
      "Train\n",
      "(9004, 9)\n",
      "Valid\n",
      "(1001, 9)\n",
      "Dataset fold 4\n",
      "Train\n",
      "(9004, 9)\n",
      "Valid\n",
      "(1001, 9)\n",
      "Dataset fold 5\n",
      "Train\n",
      "(9005, 9)\n",
      "Valid\n",
      "(1000, 9)\n",
      "Dataset fold 6\n",
      "Train\n",
      "(9005, 9)\n",
      "Valid\n",
      "(1000, 9)\n",
      "Dataset fold 7\n",
      "Train\n",
      "(9005, 9)\n",
      "Valid\n",
      "(1000, 9)\n",
      "Dataset fold 8\n",
      "Train\n",
      "(9005, 9)\n",
      "Valid\n",
      "(1000, 9)\n",
      "Dataset fold 9\n",
      "Train\n",
      "(9005, 9)\n",
      "Valid\n",
      "(1000, 9)\n"
     ]
    }
   ],
   "source": [
    "n_round = 10\n",
    "skf = StratifiedKFold(n_splits=n_round, random_state=42, shuffle=True)\n",
    "LAB = train.loc[:,'Label']\n",
    "for n, (train_index, valid_index) in zip(range(n_round), skf.split(train, LAB)):\n",
    "    print('Dataset fold '+str(n))\n",
    "    print('Train')\n",
    "    cv_train = train.loc[train_index,:]\n",
    "    cv_train.reset_index(drop=True, inplace=True)\n",
    "    print(cv_train.shape)\n",
    "    cv_train.to_csv('./cv/train_kfold-'+str(n)+'.csv')\n",
    "    print('Valid')\n",
    "    cv_valid = train.loc[valid_index,:]\n",
    "    cv_valid.reset_index(drop=True, inplace=True)\n",
    "    print(cv_valid.shape)\n",
    "    cv_valid.to_csv('./cv/valid_kfold-'+str(n)+'.csv')"
   ]
  },
  {
   "cell_type": "code",
   "execution_count": null,
   "metadata": {},
   "outputs": [],
   "source": []
  }
 ],
 "metadata": {
  "kernelspec": {
   "display_name": "Python 3",
   "language": "python",
   "name": "python3"
  },
  "language_info": {
   "codemirror_mode": {
    "name": "ipython",
    "version": 3
   },
   "file_extension": ".py",
   "mimetype": "text/x-python",
   "name": "python",
   "nbconvert_exporter": "python",
   "pygments_lexer": "ipython3",
   "version": "3.6.12"
  }
 },
 "nbformat": 4,
 "nbformat_minor": 4
}
